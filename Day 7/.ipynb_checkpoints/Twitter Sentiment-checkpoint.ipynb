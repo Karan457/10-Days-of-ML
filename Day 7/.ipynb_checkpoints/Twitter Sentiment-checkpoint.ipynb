{
 "cells": [
  {
   "cell_type": "markdown",
   "metadata": {},
   "source": [
    "# Twitter sentiment\n",
    "-[Rishit Dagli](rishit.tech)\n",
    "\n",
    "## About Me\n",
    "\n",
    "[Twitter](https://twitter.com/rishit_dagli)\n",
    "\n",
    "[GitHub](https://github.com/Rishit-dagli)\n",
    "\n",
    "[Medium](https://medium.com/@rishit.dagli)"
   ]
  },
  {
   "cell_type": "markdown",
   "metadata": {},
   "source": [
    "## Some imports"
   ]
  },
  {
   "cell_type": "code",
   "execution_count": 78,
   "metadata": {
    "_cell_guid": "b1076dfc-b9ad-4769-8c92-a6c4dae69d19",
    "_uuid": "8f2839f25d086af736a60e9eeb907d3b93b6e0e5"
   },
   "outputs": [],
   "source": [
    "import re\n",
    "import numpy as np \n",
    "import pandas as pd \n",
    "import matplotlib.pyplot as plt\n",
    "from sklearn.model_selection import train_test_split\n",
    "from tensorflow.keras.preprocessing.text import Tokenizer\n",
    "from tensorflow.keras.preprocessing.sequence import pad_sequences\n",
    "from tensorflow.keras.models import Sequential\n",
    "from tensorflow.keras.layers import Dense, Embedding, LSTM, SpatialDropout1D\n",
    "import sklearn\n",
    "import tensorflow as tf\n",
    "import seaborn as sns"
   ]
  },
  {
   "cell_type": "markdown",
   "metadata": {},
   "source": [
    "## Load the data"
   ]
  },
  {
   "cell_type": "code",
   "execution_count": 64,
   "metadata": {
    "_cell_guid": "79c7e3d0-c299-4dcb-8224-4455121ee9b0",
    "_uuid": "d629ff2d2480ee46fbb7e2d37f6b5fab8052498a"
   },
   "outputs": [],
   "source": [
    "train_df = pd.read_csv('Twitter/train.csv')\n",
    "test_df = pd.read_csv('Twitter/test.csv')"
   ]
  },
  {
   "cell_type": "markdown",
   "metadata": {},
   "source": [
    "## Preprocessing"
   ]
  },
  {
   "cell_type": "markdown",
   "metadata": {},
   "source": [
    "Let's make a pairplot"
   ]
  },
  {
   "cell_type": "code",
   "execution_count": 79,
   "metadata": {},
   "outputs": [
    {
     "data": {
      "text/plain": [
       "<seaborn.axisgrid.PairGrid at 0x7f946023b160>"
      ]
     },
     "execution_count": 79,
     "metadata": {},
     "output_type": "execute_result"
    },
    {
     "data": {
      "image/png": "[encoded data removed]",
      "text/plain": [
       "<Figure size 360x360 with 6 Axes>"
      ]
     },
     "metadata": {},
     "output_type": "display_data"
    }
   ],
   "source": [
    "sns.pairplot(train_df)"
   ]
  },
  {
   "cell_type": "markdown",
   "metadata": {},
   "source": [
    "First we will seperate our data in xs and ys"
   ]
  },
  {
   "cell_type": "code",
   "execution_count": 65,
   "metadata": {},
   "outputs": [],
   "source": [
    "x_train = train_df['tweet']\n",
    "y_train = train_df['label']\n",
    "x_test = test_df['tweet']"
   ]
  },
  {
   "cell_type": "markdown",
   "metadata": {},
   "source": [
    "If you observe the dataset it has some characters like `@` and `#`., we first need to remove them"
   ]
  },
  {
   "cell_type": "code",
   "execution_count": 66,
   "metadata": {},
   "outputs": [],
   "source": [
    "def clean_up(text):\n",
    "    text = re.sub('\\d+','',text)\n",
    "    text = re.sub(r'[^\\w\\s]','',text)\n",
    "    text = text.encode('ascii', 'ignore').decode('ascii')\n",
    "    return text\n",
    "\n",
    "total_data = x_train.append(x_test)\n",
    "total_data = total_data.apply(clean_up)"
   ]
  },
  {
   "cell_type": "markdown",
   "metadata": {},
   "source": [
    "Let's see the number of labels we have"
   ]
  },
  {
   "cell_type": "code",
   "execution_count": 67,
   "metadata": {},
   "outputs": [
    {
     "name": "stdout",
     "output_type": "stream",
     "text": [
      "label\n",
      "0    29720\n",
      "1     2242\n",
      "Name: label, dtype: int64\n",
      "The shape of train is (31962,)\n",
      "The shape of holdout test is (17197,)\n"
     ]
    }
   ],
   "source": [
    "print(train_df.groupby('label')['label'].count())\n",
    "print('The shape of train is {}'.format(x_train.shape))\n",
    "print('The shape of holdout test is {}'.format(x_test.shape))"
   ]
  },
  {
   "cell_type": "code",
   "execution_count": 75,
   "metadata": {},
   "outputs": [
    {
     "data": {
      "text/plain": [
       "[<matplotlib.axis.YTick at 0x7f949d31ad30>,\n",
       " <matplotlib.axis.YTick at 0x7f949d31a320>]"
      ]
     },
     "execution_count": 75,
     "metadata": {},
     "output_type": "execute_result"
    },
    {
     "data": {
      "image/png": "[encoded data removed]",
      "text/plain": [
       "<Figure size 432x288 with 1 Axes>"
      ]
     },
     "metadata": {},
     "output_type": "display_data"
    }
   ],
   "source": [
    "xs = (0, 1)\n",
    "ys = (29720, 2242)\n",
    "labels =(\"Positive\", \"Negative\")\n",
    "\n",
    "plt.style.use('ggplot')\n",
    "fig = plt.figure()                                                               \n",
    "ax = fig.gca()\n",
    "ax.bar(xs, ys, 0.5, align='center', color = ['red', 'blue'])\n",
    "ax.set_xticks(xs)\n",
    "ax.set_xticklabels(labels)\n",
    "ax.set_yticks(ys)"
   ]
  },
  {
   "cell_type": "markdown",
   "metadata": {},
   "source": [
    "## Tokenize"
   ]
  },
  {
   "cell_type": "markdown",
   "metadata": {},
   "source": [
    "Now we will tokenize our sentences"
   ]
  },
  {
   "cell_type": "code",
   "execution_count": 68,
   "metadata": {},
   "outputs": [],
   "source": [
    "max_fatures = 2000\n",
    "word_ind = dict()\n",
    "def tokenize(text_frame):\n",
    "    tokenizer = Tokenizer(num_words=max_fatures, split=' ')\n",
    "    tokenizer.fit_on_texts(text_frame.values)\n",
    "    tokenized = tokenizer.texts_to_sequences(text_frame.values)\n",
    "    padded_seq = pad_sequences(tokenized)\n",
    "    word_ind = tokenizer.word_index\n",
    "    return padded_seq"
   ]
  },
  {
   "cell_type": "code",
   "execution_count": 69,
   "metadata": {},
   "outputs": [
    {
     "name": "stdout",
     "output_type": "stream",
     "text": [
      "label\n",
      "0    29720\n",
      "1     2242\n",
      "Name: label, dtype: int64\n",
      "The shape of train is (31962, 31)\n",
      "The shape of holdout test is (17197,)\n"
     ]
    }
   ],
   "source": [
    "total_data = tokenize(total_data)\n",
    "x_train = total_data[:x_train.shape[0]]\n",
    "holdout_test = total_data[x_train.shape[0]:]\n",
    "print(train_df.groupby('label')['label'].count())\n",
    "print('The shape of train is {}'.format(x_train.shape))\n",
    "print('The shape of holdout test is {}'.format(x_test.shape))"
   ]
  },
  {
   "cell_type": "markdown",
   "metadata": {},
   "source": [
    "## Model"
   ]
  },
  {
   "cell_type": "code",
   "execution_count": 29,
   "metadata": {},
   "outputs": [],
   "source": [
    "embed_dim = 128\n",
    "\n",
    "model = Sequential([\n",
    "    Embedding(max_fatures, embed_dim,input_length = x_train.shape[1]),\n",
    "    #SpatialDropout1D(0.4),\n",
    "    tf.keras.layers.Bidirectional(LSTM(64, dropout=0.2, recurrent_dropout=0.2)),\n",
    "    Dense(256,activation='relu'),\n",
    "    Dense(64,activation='relu'),    \n",
    "    Dense(1,activation='sigmoid')])"
   ]
  },
  {
   "cell_type": "code",
   "execution_count": 30,
   "metadata": {},
   "outputs": [
    {
     "name": "stdout",
     "output_type": "stream",
     "text": [
      "Model: \"sequential_5\"\n",
      "_________________________________________________________________\n",
      "Layer (type)                 Output Shape              Param #   \n",
      "=================================================================\n",
      "embedding_6 (Embedding)      (None, 31, 128)           256000    \n",
      "_________________________________________________________________\n",
      "bidirectional_1 (Bidirection (None, 128)               98816     \n",
      "_________________________________________________________________\n",
      "dense_9 (Dense)              (None, 256)               33024     \n",
      "_________________________________________________________________\n",
      "dense_10 (Dense)             (None, 64)                16448     \n",
      "_________________________________________________________________\n",
      "dense_11 (Dense)             (None, 1)                 65        \n",
      "=================================================================\n",
      "Total params: 404,353\n",
      "Trainable params: 404,353\n",
      "Non-trainable params: 0\n",
      "_________________________________________________________________\n",
      "None\n"
     ]
    }
   ],
   "source": [
    "model.compile(loss = 'binary_crossentropy', optimizer='adam',metrics = ['accuracy'])\n",
    "print(model.summary())"
   ]
  },
  {
   "cell_type": "code",
   "execution_count": 31,
   "metadata": {},
   "outputs": [
    {
     "name": "stdout",
     "output_type": "stream",
     "text": [
      "(13091, 31) (13091,)\n",
      "(3273, 31) (3273,)\n"
     ]
    }
   ],
   "source": [
    "x_train, x_test, y_train, y_test = train_test_split(x_train,y_train, test_size = 0.2, random_state = 42)\n",
    "print(x_train.shape,y_train.shape)\n",
    "print(x_test.shape,y_test.shape)"
   ]
  },
  {
   "cell_type": "code",
   "execution_count": 35,
   "metadata": {},
   "outputs": [
    {
     "name": "stdout",
     "output_type": "stream",
     "text": [
      "Train on 13091 samples, validate on 3273 samples\n",
      "Epoch 1/8\n",
      "13091/13091 [==============================] - 60s 5ms/sample - loss: 0.0323 - accuracy: 0.9872 - val_loss: 0.3345 - val_accuracy: 0.9383\n",
      "Epoch 2/8\n",
      "13091/13091 [==============================] - 52s 4ms/sample - loss: 0.0255 - accuracy: 0.9899 - val_loss: 0.3502 - val_accuracy: 0.9340\n",
      "Epoch 3/8\n",
      "13091/13091 [==============================] - 50s 4ms/sample - loss: 0.0208 - accuracy: 0.9928 - val_loss: 0.3945 - val_accuracy: 0.9395\n",
      "Epoch 4/8\n",
      "13091/13091 [==============================] - 50s 4ms/sample - loss: 0.0208 - accuracy: 0.9924 - val_loss: 0.4098 - val_accuracy: 0.9429\n",
      "Epoch 5/8\n",
      "13091/13091 [==============================] - 50s 4ms/sample - loss: 0.0174 - accuracy: 0.9933 - val_loss: 0.4771 - val_accuracy: 0.9355\n",
      "Epoch 6/8\n",
      "13091/13091 [==============================] - 50s 4ms/sample - loss: 0.0161 - accuracy: 0.9949 - val_loss: 0.4181 - val_accuracy: 0.9419\n",
      "Epoch 7/8\n",
      "13091/13091 [==============================] - 51s 4ms/sample - loss: 0.0140 - accuracy: 0.9946 - val_loss: 0.5065 - val_accuracy: 0.9398\n",
      "Epoch 8/8\n",
      "13091/13091 [==============================] - 50s 4ms/sample - loss: 0.0148 - accuracy: 0.9951 - val_loss: 0.4397 - val_accuracy: 0.9389\n"
     ]
    }
   ],
   "source": [
    "history = model.fit(x_train, y_train, epochs = 8, verbose = 1,\n",
    "         validation_data = (x_test,y_test))"
   ]
  },
  {
   "cell_type": "markdown",
   "metadata": {},
   "source": [
    "## Few graphs"
   ]
  },
  {
   "cell_type": "markdown",
   "metadata": {},
   "source": [
    "Let's now create some training graphs"
   ]
  },
  {
   "cell_type": "code",
   "execution_count": 36,
   "metadata": {},
   "outputs": [],
   "source": [
    "def plot_graphs(history, string):\n",
    "  plt.plot(history.history[string])\n",
    "  plt.plot(history.history['val_'+string])\n",
    "  plt.xlabel(\"Epochs\")\n",
    "  plt.ylabel(string)\n",
    "  plt.legend([string, 'val_'+string])\n",
    "  plt.show()"
   ]
  },
  {
   "cell_type": "code",
   "execution_count": 37,
   "metadata": {},
   "outputs": [
    {
     "data": {
      "image/png": "[encoded data removed]",
      "text/plain": [
       "<Figure size 432x288 with 1 Axes>"
      ]
     },
     "metadata": {
      "needs_background": "light"
     },
     "output_type": "display_data"
    },
    {
     "data": {
      "image/png": "[encoded data removed]",
      "text/plain": [
       "<Figure size 432x288 with 1 Axes>"
      ]
     },
     "metadata": {
      "needs_background": "light"
     },
     "output_type": "display_data"
    }
   ],
   "source": [
    "plot_graphs(history, 'accuracy')\n",
    "plot_graphs(history, 'loss')"
   ]
  },
  {
   "cell_type": "code",
   "execution_count": 38,
   "metadata": {},
   "outputs": [],
   "source": [
    "preds = model.predict(x_test)"
   ]
  },
  {
   "cell_type": "code",
   "execution_count": 41,
   "metadata": {},
   "outputs": [
    {
     "name": "stdout",
     "output_type": "stream",
     "text": [
      "Accuracy: 0.9389\n",
      "F1 score: 0.505\n",
      "AUC-ROC: 0.7319\n",
      "The confusion matrix for the model is\n",
      "[[2971   96]\n",
      " [ 104  102]]\n"
     ]
    },
    {
     "data": {
      "text/plain": [
       "Text(0, 0.5, 'TPR')"
      ]
     },
     "execution_count": 41,
     "metadata": {},
     "output_type": "execute_result"
    },
    {
     "data": {
      "image/png": "[encoded data removed]",
      "text/plain": [
       "<Figure size 432x288 with 1 Axes>"
      ]
     },
     "metadata": {
      "needs_background": "light"
     },
     "output_type": "display_data"
    }
   ],
   "source": [
    "fpr, tpr, thresh = roc_curve(y_test, preds)\n",
    "\n",
    "#print('The metrics for the {} model is as below:'.format(name))\n",
    "print('Accuracy: {}'.format(round(accuracy_score(y_test, preds.round()),4)))\n",
    "print('F1 score: {}'.format(round(f1_score(y_test, preds.round()),4)))\n",
    "print('AUC-ROC: {}'.format(round(roc_auc_score(y_test, preds.round()),4)))\n",
    "print('The confusion matrix for the model is')\n",
    "print(confusion_matrix(y_test,preds.round()))\n",
    "\n",
    "plt.plot(fpr, tpr)\n",
    "plt.title('AUC-ROC Curves')\n",
    "plt.xlabel('FPR')\n",
    "plt.ylabel('TPR')"
   ]
  },
  {
   "cell_type": "markdown",
   "metadata": {},
   "source": [
    "## Conclusion"
   ]
  },
  {
   "cell_type": "markdown",
   "metadata": {},
   "source": [
    "We did a pretty good job, we did not overfit at all and got a pretty good accuracy too!"
   ]
  }
 ],
 "metadata": {
  "kernelspec": {
   "display_name": "Python 3",
   "language": "python",
   "name": "python3"
  },
  "language_info": {
   "codemirror_mode": {
    "name": "ipython",
    "version": 3
   },
   "file_extension": ".py",
   "mimetype": "text/x-python",
   "name": "python",
   "nbconvert_exporter": "python",
   "pygments_lexer": "ipython3",
   "version": "3.5.3"
  }
 },
 "nbformat": 4,
 "nbformat_minor": 4
}
