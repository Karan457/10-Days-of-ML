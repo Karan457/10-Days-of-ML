{
 "cells": [
  {
   "cell_type": "code",
   "execution_count": 4,
   "metadata": {
    "_cell_guid": "6c3c4146-8473-41e2-a662-413efb27665a",
    "_uuid": "637cff8e2103e323ef609bd2c350cb29aa05e099"
   },
   "outputs": [],
   "source": [
    "# to be imported\n",
    "from keras.preprocessing.text import text_to_word_sequence\n",
    "import pandas as pd\n",
    "from keras.preprocessing.text import Tokenizer\n",
    "import numpy as np\n",
    "from __future__ import print_function\n",
    "\n",
    "from keras.preprocessing import sequence\n",
    "from keras.models import Sequential\n",
    "from keras.layers import Dense, Dropout, Activation\n",
    "from keras.layers import Embedding\n",
    "from keras.layers import Conv1D, GlobalMaxPooling1D"
   ]
  },
  {
   "cell_type": "code",
   "execution_count": 27,
   "metadata": {
    "_cell_guid": "1da17257-6c48-42fe-b761-15148be8a56a",
    "_uuid": "ddb47654b861d29d92251edeed58352f05490e21"
   },
   "outputs": [
    {
     "name": "stdout",
     "output_type": "stream",
     "text": [
      "['Debt collection' 'Consumer Loan' 'Mortgage' ..., 'Payday loan' 'Mortgage'\n",
      " 'Mortgage']\n"
     ]
    }
   ],
   "source": [
    "\n",
    "# Read the input dataset \n",
    "d = pd.read_csv(\"../input/consumer_complaints.csv\", \n",
    "                usecols=('product','consumer_complaint_narrative'),\n",
    "                dtype={'consumer_complaint_narrative': object})\n",
    "# Only interested in data with consumer complaints\n",
    "d=d[d['consumer_complaint_narrative'].notnull()]\n",
    "\n",
    "d=d[d['product'].notnull()]\n",
    "d.reset_index(drop=True,inplace=True)\n",
    "x = d.iloc[:, 1].values\n",
    "y = d.iloc[:, 0].values\n",
    "print(y)\n",
    "\n",
    "#there are 11 unique classes for classification\n",
    "print(np.unique(y, return_counts=True))\n",
    "\n"
   ]
  },
  {
   "cell_type": "code",
   "execution_count": 19,
   "metadata": {
    "_cell_guid": "432b95a1-0703-4279-a5e2-3f4797ba9854",
    "_uuid": "077100d4dd6995a3f78f183057055969e2808927"
   },
   "outputs": [
    {
     "name": "stdout",
     "output_type": "stream",
     "text": [
      "[[  0   0   0 ...,   3  84 108]\n",
      " [  0   0   0 ...,   2   8   6]\n",
      " [145  10 112 ...,   7   9   7]\n",
      " ..., \n",
      " [  0   0   0 ..., 171  66   1]\n",
      " [  0   0   0 ...,   2 150  68]\n",
      " [ 32   2   4 ...,   5  24  16]]\n"
     ]
    }
   ],
   "source": [
    " # encode the text with word sequences - Preprocessing step 1\n",
    "tk = Tokenizer(num_words= 200, filters = '!\"#$%&()*+,-./:;<=>?@[\\\\]^_`{|}~\\t\\n',lower=True, split=\" \")\n",
    "tk.fit_on_texts(x)\n",
    "x = tk.texts_to_sequences(x)\n",
    "x = sequence.pad_sequences(x, maxlen=200)\n",
    "\n",
    "print(x)"
   ]
  },
  {
   "cell_type": "code",
   "execution_count": 31,
   "metadata": {
    "_cell_guid": "9316d3ac-cb03-421e-8d81-225238d13978",
    "_uuid": "80b7c94682a711491f8bdf574c382c8f156024dc"
   },
   "outputs": [
    {
     "name": "stdout",
     "output_type": "stream",
     "text": [
      "(array([ 0,  1,  2,  3,  4,  5,  6,  7,  8,  9, 10]), array([ 5711,  3678,  7929, 12526, 17552,   666, 14919,   110,   726,\n",
      "         861,  2128]))\n"
     ]
    }
   ],
   "source": [
    " # Label Encoding categorical data for the classification category\n",
    "from sklearn.preprocessing import LabelEncoder, OneHotEncoder\n",
    "labelencoder_Y = LabelEncoder()\n",
    "y = labelencoder_Y.fit_transform(y)\n",
    "print(y)\n",
    "print(np.unique(y, return_counts=True))"
   ]
  },
  {
   "cell_type": "code",
   "execution_count": 34,
   "metadata": {
    "_cell_guid": "8a79ea2e-8033-4919-b376-9ace5c02afab",
    "_uuid": "f9c775c1d7793986af517cf922df277e9414a221",
    "scrolled": true
   },
   "outputs": [
    {
     "name": "stdout",
     "output_type": "stream",
     "text": [
      "[[ 1.  0.  0. ...,  0.  0.  0.]\n",
      " [ 1.  0.  0. ...,  0.  0.  0.]\n",
      " [ 1.  0.  0. ...,  0.  0.  0.]\n",
      " ..., \n",
      " [ 1.  0.  0. ...,  0.  0.  0.]\n",
      " [ 1.  0.  0. ...,  0.  0.  0.]\n",
      " [ 1.  0.  0. ...,  0.  0.  0.]]\n"
     ]
    }
   ],
   "source": [
    "# Perform one hot encoding \n",
    "from keras import utils as np_utils\n",
    "y = np_utils.to_categorical(y, num_classes= 11)\n",
    "\n",
    "print(y)"
   ]
  },
  {
   "cell_type": "code",
   "execution_count": 35,
   "metadata": {
    "_cell_guid": "3a817ac7-7adf-404b-becf-5f2a0a9d6d05",
    "_uuid": "af2812f73524c6fe28fa276bc5c67b0db5110ee1"
   },
   "outputs": [],
   "source": [
    "# Seeding\n",
    "np.random.seed(200)\n",
    "indices = np.arange(len(x))\n",
    "np.random.shuffle(indices)\n",
    "x = x[indices]\n",
    "y = y[indices]"
   ]
  },
  {
   "cell_type": "code",
   "execution_count": 36,
   "metadata": {
    "collapsed": true
   },
   "outputs": [],
   "source": [
    "index_from=3\n",
    "start_char = 1\n",
    "if start_char is not None:\n",
    "        x = [[start_char] + [w + index_from for w in x1] for x1 in x]\n",
    "elif index_from:\n",
    "        x = [[w + index_from for w in x1] for x1 in x]"
   ]
  },
  {
   "cell_type": "code",
   "execution_count": 42,
   "metadata": {},
   "outputs": [
    {
     "name": "stdout",
     "output_type": "stream",
     "text": [
      "(53444, 201)\n",
      "(53444, 11)\n",
      "(13362, 201)\n",
      "(13362, 11)\n",
      "[[ 1.  0.  0. ...,  0.  0.  0.]\n",
      " [ 1.  0.  0. ...,  0.  0.  0.]\n",
      " [ 1.  0.  0. ...,  0.  0.  0.]\n",
      " ..., \n",
      " [ 1.  0.  0. ...,  0.  0.  0.]\n",
      " [ 1.  0.  0. ...,  0.  0.  0.]\n",
      " [ 1.  0.  0. ...,  0.  0.  0.]]\n"
     ]
    }
   ],
   "source": [
    "\n",
    "\n",
    "num_words = None\n",
    "if not num_words:\n",
    "        num_words = max([max(x1) for x1 in x])\n",
    "        \n",
    "oov_char = 2\n",
    "skip_top = 0\n",
    "# by convention, use 2 as OOV word\n",
    "# reserve 'index_from' (=3 by default) characters:\n",
    "# 0 (padding), 1 (start), 2 (OOV)\n",
    "if oov_char is not None:\n",
    "        x = [[w if (skip_top <= w < num_words) else oov_char for w in x1] for x1 in x]\n",
    "else:\n",
    "        x = [[w for w in x1 if (skip_top <= w < num_words)] for x1 in x]\n",
    "        \n",
    "# split test and train data\n",
    "test_split = 0.2\n",
    "idx = int(len(x) * (1 - test_split))\n",
    "x_train, y_train = np.array(x[:idx]), np.array(y[:idx])\n",
    "x_test, y_test = np.array(x[idx:]), np.array(y[idx:])\n",
    "\n",
    "print(x_train.shape)\n",
    "print(y_train.shape)\n",
    "print(x_test.shape)\n",
    "print(y_test.shape)\n",
    "print(y)"
   ]
  },
  {
   "cell_type": "code",
   "execution_count": 44,
   "metadata": {},
   "outputs": [
    {
     "name": "stdout",
     "output_type": "stream",
     "text": [
      "x_train shape: (53444, 201)\n",
      "x_test shape: (13362, 201)\n"
     ]
    }
   ],
   "source": [
    "x_train = sequence.pad_sequences(x_train, maxlen=201)\n",
    "x_test = sequence.pad_sequences(x_test, maxlen=201)\n",
    "print('x_train shape:', x_train.shape)\n",
    "print('x_test shape:', x_test.shape)"
   ]
  },
  {
   "cell_type": "code",
   "execution_count": null,
   "metadata": {},
   "outputs": [
    {
     "name": "stdout",
     "output_type": "stream",
     "text": [
      "Build model...\n",
      "Train on 53444 samples, validate on 13362 samples\n",
      "Epoch 1/50\n",
      "53444/53444 [==============================] - 286s - loss: 0.3197 - acc: 0.9077 - val_loss: 0.2990 - val_acc: 0.9124\n",
      "Epoch 2/50\n",
      "53444/53444 [==============================] - 285s - loss: 0.3113 - acc: 0.9083 - val_loss: 0.3002 - val_acc: 0.9124\n",
      "Epoch 3/50\n",
      "53444/53444 [==============================] - 284s - loss: 0.3119 - acc: 0.9083 - val_loss: 0.3223 - val_acc: 0.9124\n",
      "Epoch 4/50\n",
      "53444/53444 [==============================] - 283s - loss: 0.3126 - acc: 0.9083 - val_loss: 0.3035 - val_acc: 0.9124\n",
      "Epoch 5/50\n",
      "53444/53444 [==============================] - 285s - loss: 0.3132 - acc: 0.9083 - val_loss: 0.3107 - val_acc: 0.9124\n",
      "Epoch 6/50\n",
      "53444/53444 [==============================] - 282s - loss: 0.3147 - acc: 0.9083 - val_loss: 0.3122 - val_acc: 0.9124\n",
      "Epoch 7/50\n",
      "53444/53444 [==============================] - 281s - loss: 0.3127 - acc: 0.9083 - val_loss: 0.3006 - val_acc: 0.9124\n",
      "Epoch 8/50\n",
      "53444/53444 [==============================] - 283s - loss: 0.3117 - acc: 0.9083 - val_loss: 0.3094 - val_acc: 0.9124\n",
      "Epoch 9/50\n",
      "53444/53444 [==============================] - 283s - loss: 0.3105 - acc: 0.9083 - val_loss: 0.3117 - val_acc: 0.9124\n",
      "Epoch 10/50\n",
      "53444/53444 [==============================] - 285s - loss: 0.3100 - acc: 0.9083 - val_loss: 0.3097 - val_acc: 0.9124\n",
      "Epoch 11/50\n",
      "53444/53444 [==============================] - 287s - loss: 0.3099 - acc: 0.9083 - val_loss: 0.3078 - val_acc: 0.9124\n",
      "Epoch 12/50\n",
      "53444/53444 [==============================] - 289s - loss: 0.3102 - acc: 0.9083 - val_loss: 0.3006 - val_acc: 0.9124\n",
      "Epoch 13/50\n",
      "53444/53444 [==============================] - 288s - loss: 0.3092 - acc: 0.9083 - val_loss: 0.2978 - val_acc: 0.9124\n",
      "Epoch 14/50\n",
      " 1984/53444 [>.............................] - ETA: 269s - loss: 0.3006 - acc: 0.9108"
     ]
    }
   ],
   "source": [
    "\n",
    "max_features = 1000\n",
    "maxlen = 201\n",
    "embedding_dims = 50\n",
    "filters = 250\n",
    "kernel_size = 3\n",
    "hidden_dims = 250\n",
    "\n",
    "\n",
    "# CNN with max pooling imeplementation \n",
    "print('Build model...')\n",
    "model = Sequential()\n",
    "# we start off with an efficient embedding layer which maps\n",
    "# our vocab indices into embedding_dims dimensions\n",
    "model.add(Embedding(max_features,\n",
    "                    embedding_dims,\n",
    "                    input_length=maxlen))\n",
    "model.add(Dropout(0.2))\n",
    "\n",
    "# we add a Convolution1D, which will learn filters\n",
    "# word group filters of size filter_length:\n",
    "model.add(Conv1D(filters,\n",
    "                 kernel_size,\n",
    "                 padding='valid',\n",
    "                 activation='relu',\n",
    "                 strides=1))\n",
    "# we use max pooling:\n",
    "model.add(GlobalMaxPooling1D())\n",
    "\n",
    "# We add a vanilla hidden layer:\n",
    "model.add(Dense(hidden_dims))\n",
    "model.add(Dropout(0.2))\n",
    "model.add(Activation('relu'))\n",
    "\n",
    "# We project onto a single unit output layer, and squash it with a sigmoid:\n",
    "model.add(Dense(11))\n",
    "model.add(Activation('softmax'))\n",
    "\n",
    "model.compile(loss='categorical_crossentropy',\n",
    "              optimizer='rmsprop',\n",
    "              metrics=['accuracy'])\n",
    "\n",
    "model.fit(x_train, y_train,\n",
    "          batch_size=32,\n",
    "          epochs=50,\n",
    "          validation_data=(x_test, y_test))"
   ]
  }
 ],
 "metadata": {
  "kernelspec": {
   "display_name": "Python 3",
   "language": "python",
   "name": "python3"
  },
  "language_info": {
   "codemirror_mode": {
    "name": "ipython",
    "version": 3
   },
   "file_extension": ".py",
   "mimetype": "text/x-python",
   "name": "python",
   "nbconvert_exporter": "python",
   "pygments_lexer": "ipython3",
   "version": "3.6.3"
  }
 },
 "nbformat": 4,
 "nbformat_minor": 1
}
