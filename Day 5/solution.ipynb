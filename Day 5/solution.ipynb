{
 "cells": [
  {
   "cell_type": "markdown",
   "metadata": {},
   "source": [
    "# Cats and Dogs\n",
    "-[Rishit Dagli](rishitdagli.ml)\n",
    "\n",
    "## About Me\n",
    "\n",
    "[Twitter](https://twitter.com/rishit_dagli)\n",
    "\n",
    "[GitHub](https://github.com/Rishit-dagli)\n",
    "\n",
    "[Medium](https://medium.com/@rishit.dagli)"
   ]
  },
  {
   "cell_type": "markdown",
   "metadata": {},
   "source": [
    "## Import some libraries"
   ]
  },
  {
   "cell_type": "code",
   "execution_count": 1,
   "metadata": {},
   "outputs": [],
   "source": [
    "import tensorflow as tf\n",
    "import os\n",
    "import seaborn as sns\n",
    "import matplotlib.pyplot as plt\n",
    "from tensorflow.keras.preprocessing.image import ImageDataGenerator\n",
    "from tensorflow.keras.optimizers import RMSprop, Adam, SGD, Adagrad, Adadelta"
   ]
  },
  {
   "cell_type": "markdown",
   "metadata": {},
   "source": [
    "## Lets tell the computer about the location of Data"
   ]
  },
  {
   "cell_type": "markdown",
   "metadata": {},
   "source": [
    "To save manually typing all the paths I made a `base_dir` and for paths I append to it, if you did not understand few lines of code please see this directory structure (made with the code in below cell)-\n",
    "\n",
    "cats_and_dogs_filtered:\n",
    "\n",
    "<pre>\n",
    "---> train<br>\n",
    "       ---> cats<br>\n",
    "           ---> cat1.jpg<br>\n",
    "           ---> cat2.jpg<br>\n",
    "           ---> cat3.jpg<br>\n",
    "           .<br>\n",
    "           .<br>\n",
    "           .<br>\n",
    "        ---> dogs<br>\n",
    "           ---> dog1.jpg<br>\n",
    "           ---> dog2.jpg<br>\n",
    "           ---> dog3.jpg<br>\n",
    "           .<br>\n",
    "           .<br>\n",
    "           .<br>\n",
    "---> test<br>\n",
    "      ---> cats<br>\n",
    "           ---> cat1.jpg<br>\n",
    "           ---> cat2.jpg<br>\n",
    "           ---> cat3.jpg<br>\n",
    "           .<br>\n",
    "           .<br>\n",
    "           .<br>\n",
    "        ---> dogs<br>\n",
    "           ---> dog1.jpg<br>\n",
    "           ---> dog2.jpg<br>\n",
    "           ---> dog3.jpg<br>\n",
    "           .<br>\n",
    "           .<br>\n",
    "           .<br>\n",
    "</pre>           "
   ]
  },
  {
   "cell_type": "code",
   "execution_count": null,
   "metadata": {},
   "outputs": [],
   "source": [
    "```\n",
    "import os\n",
    "def list_files(cats_and_dogs_filtered):\n",
    "    for root, dirs, files in os.walk(startpath):\n",
    "        level = root.replace(startpath, '').count(os.sep)\n",
    "        indent = ' ' * 4 * (level)\n",
    "        print('{}{}/'.format(indent, os.path.basename(root)))\n",
    "        subindent = ' ' * 4 * (level + 1)\n",
    "        for f in files:\n",
    "            print('{}{}'.format(subindent, f))\n",
    "```"
   ]
  },
  {
   "cell_type": "markdown",
   "metadata": {},
   "source": [
    "So, now we specify the train and test directories"
   ]
  },
  {
   "cell_type": "code",
   "execution_count": 2,
   "metadata": {},
   "outputs": [],
   "source": [
    "dir = 'cats_and_dogs_filtered'\n",
    "train_dir = os.path.join(dir, 'train')\n",
    "validation_dir = os.path.join(dir, 'validation')"
   ]
  },
  {
   "cell_type": "markdown",
   "metadata": {},
   "source": [
    "Once, we have train and test directories, let's get the train and test"
   ]
  },
  {
   "cell_type": "code",
   "execution_count": 3,
   "metadata": {},
   "outputs": [],
   "source": [
    "train_cats_dir = os.path.join(train_dir, 'cats')\n",
    "train_dogs_dir = os.path.join(train_dir, 'dogs')\n",
    "validation_cats_dir = os.path.join(validation_dir, 'cats')\n",
    "validation_dogs_dir = os.path.join(validation_dir, 'dogs')"
   ]
  },
  {
   "cell_type": "markdown",
   "metadata": {},
   "source": [
    "## Load the data"
   ]
  },
  {
   "cell_type": "markdown",
   "metadata": {},
   "source": [
    "### Augment the data"
   ]
  },
  {
   "cell_type": "markdown",
   "metadata": {},
   "source": [
    "We will now be using the `ImageDataGenerator` to augment our images. This all is done in runtime which means you do not waste any disk space\n",
    "\n",
    "Augmentation simply skew, rotates it, changes it height and everything more you can see down. This helps us to reduce overfitting drastically. We will see that later. Please check the comments for more info and linewise explanation"
   ]
  },
  {
   "cell_type": "code",
   "execution_count": 6,
   "metadata": {},
   "outputs": [],
   "source": [
    "train_datagen = ImageDataGenerator(\n",
    "      rescale=1./255, #Rescale the image\n",
    "      rotation_range=40, #Rotate it\n",
    "      width_shift_range=0.2, #Change the width\n",
    "      height_shift_range=0.2, #Change the height\n",
    "      shear_range=0.2, #Shear the image\n",
    "      zoom_range=0.2, #Zoom in or zoom out\n",
    "      horizontal_flip=True, #Flip the image horizontally\n",
    "      fill_mode='nearest')"
   ]
  },
  {
   "cell_type": "markdown",
   "metadata": {},
   "source": [
    "Don't augment the validation images!!"
   ]
  },
  {
   "cell_type": "code",
   "execution_count": 42,
   "metadata": {},
   "outputs": [],
   "source": [
    "test_datagen = ImageDataGenerator(rescale=1./255)"
   ]
  },
  {
   "cell_type": "markdown",
   "metadata": {},
   "source": [
    "### Load the data from directory"
   ]
  },
  {
   "cell_type": "markdown",
   "metadata": {},
   "source": [
    "We can now easily load images into the runtime from the directories, TensorFlow will automatically label them for you"
   ]
  },
  {
   "cell_type": "code",
   "execution_count": 7,
   "metadata": {},
   "outputs": [
    {
     "name": "stdout",
     "output_type": "stream",
     "text": [
      "Found 2000 images belonging to 2 classes.\n"
     ]
    }
   ],
   "source": [
    "train_generator = train_datagen.flow_from_directory(\n",
    "        train_dir,  # This is the source directory for training images\n",
    "        target_size=(150, 150),  # All images will be resized to 150x150\n",
    "        batch_size=20,\n",
    "        # Since we use binary_crossentropy loss, we need binary labels\n",
    "        class_mode='binary')"
   ]
  },
  {
   "cell_type": "code",
   "execution_count": 8,
   "metadata": {},
   "outputs": [
    {
     "name": "stdout",
     "output_type": "stream",
     "text": [
      "Found 1000 images belonging to 2 classes.\n"
     ]
    }
   ],
   "source": [
    "validation_generator = test_datagen.flow_from_directory(\n",
    "        validation_dir,\n",
    "        target_size=(150, 150),\n",
    "        batch_size=20,\n",
    "        class_mode='binary')"
   ]
  },
  {
   "cell_type": "markdown",
   "metadata": {},
   "source": [
    "## Model"
   ]
  },
  {
   "cell_type": "markdown",
   "metadata": {},
   "source": [
    "We have used some `Dropout` layers to reduce overfitting"
   ]
  },
  {
   "cell_type": "code",
   "execution_count": 38,
   "metadata": {},
   "outputs": [],
   "source": [
    "model = tf.keras.models.Sequential([\n",
    "    tf.keras.layers.Conv2D(32, (3,3), activation='relu', input_shape=(150, 150, 3)),\n",
    "    tf.keras.layers.MaxPooling2D(2, 2),\n",
    "    tf.keras.layers.Conv2D(64, (3,3), activation='relu'),\n",
    "    tf.keras.layers.MaxPooling2D(2,2),\n",
    "    tf.keras.layers.Conv2D(128, (3,3), activation='relu'),\n",
    "    tf.keras.layers.MaxPooling2D(2,2),\n",
    "    tf.keras.layers.Conv2D(128, (3,3), activation='relu'),\n",
    "    tf.keras.layers.MaxPooling2D(2,2),\n",
    "    tf.keras.layers.Flatten(),\n",
    "    tf.keras.layers.Dropout(0.2),\n",
    "    tf.keras.layers.Dense(256, activation='relu'),\n",
    "    tf.keras.layers.Dense(128, activation='relu'),\n",
    "    tf.keras.layers.Dense(1, activation='sigmoid')\n",
    "])"
   ]
  },
  {
   "cell_type": "markdown",
   "metadata": {},
   "source": [
    "`binary_crossentropy` because we want to do binary classification"
   ]
  },
  {
   "cell_type": "code",
   "execution_count": 39,
   "metadata": {},
   "outputs": [],
   "source": [
    "model.compile(loss='binary_crossentropy',\n",
    "              optimizer=RMSprop(lr=1e-4),\n",
    "              metrics=['acc'])"
   ]
  },
  {
   "cell_type": "markdown",
   "metadata": {},
   "source": [
    "Let's finally fit the model, Note this step can take quite some time"
   ]
  },
  {
   "cell_type": "code",
   "execution_count": 40,
   "metadata": {},
   "outputs": [
    {
     "name": "stdout",
     "output_type": "stream",
     "text": [
      "WARNING:tensorflow:sample_weight modes were coerced from\n",
      "  ...\n",
      "    to  \n",
      "  ['...']\n",
      "WARNING:tensorflow:sample_weight modes were coerced from\n",
      "  ...\n",
      "    to  \n",
      "  ['...']\n",
      "Train for 100 steps, validate for 50 steps\n",
      "Epoch 1/100\n",
      "100/100 [==============================] - 16s 160ms/step - loss: 0.6926 - acc: 0.5165 - val_loss: 0.6860 - val_acc: 0.5780\n",
      "Epoch 2/100\n",
      "100/100 [==============================] - 15s 148ms/step - loss: 0.6840 - acc: 0.5560 - val_loss: 0.6867 - val_acc: 0.5200\n",
      "Epoch 3/100\n",
      "100/100 [==============================] - 15s 148ms/step - loss: 0.6777 - acc: 0.5650 - val_loss: 0.6521 - val_acc: 0.6320\n",
      "Epoch 4/100\n",
      "100/100 [==============================] - 15s 148ms/step - loss: 0.6676 - acc: 0.5910 - val_loss: 0.6361 - val_acc: 0.6350\n",
      "Epoch 5/100\n",
      "100/100 [==============================] - 15s 148ms/step - loss: 0.6530 - acc: 0.6085 - val_loss: 0.6131 - val_acc: 0.6710\n",
      "Epoch 6/100\n",
      "100/100 [==============================] - 15s 150ms/step - loss: 0.6393 - acc: 0.6285 - val_loss: 0.5889 - val_acc: 0.6840\n",
      "Epoch 7/100\n",
      "100/100 [==============================] - 15s 149ms/step - loss: 0.6187 - acc: 0.6605 - val_loss: 0.5649 - val_acc: 0.7020\n",
      "Epoch 8/100\n",
      "100/100 [==============================] - 15s 149ms/step - loss: 0.6094 - acc: 0.6680 - val_loss: 0.5642 - val_acc: 0.6960\n",
      "Epoch 9/100\n",
      "100/100 [==============================] - 15s 148ms/step - loss: 0.5965 - acc: 0.6755 - val_loss: 0.5476 - val_acc: 0.6960\n",
      "Epoch 10/100\n",
      "100/100 [==============================] - 15s 148ms/step - loss: 0.5926 - acc: 0.6775 - val_loss: 0.7447 - val_acc: 0.6250\n",
      "Epoch 11/100\n",
      "100/100 [==============================] - 15s 148ms/step - loss: 0.5716 - acc: 0.6935 - val_loss: 0.5304 - val_acc: 0.7240\n",
      "Epoch 12/100\n",
      "100/100 [==============================] - 15s 148ms/step - loss: 0.5819 - acc: 0.6875 - val_loss: 0.5486 - val_acc: 0.7070\n",
      "Epoch 13/100\n",
      "100/100 [==============================] - 15s 148ms/step - loss: 0.5760 - acc: 0.6945 - val_loss: 0.5619 - val_acc: 0.7140\n",
      "Epoch 14/100\n",
      "100/100 [==============================] - 15s 147ms/step - loss: 0.5724 - acc: 0.6990 - val_loss: 0.5314 - val_acc: 0.7280\n",
      "Epoch 15/100\n",
      "100/100 [==============================] - 15s 147ms/step - loss: 0.5620 - acc: 0.7020 - val_loss: 0.5437 - val_acc: 0.7060\n",
      "Epoch 16/100\n",
      "100/100 [==============================] - 15s 147ms/step - loss: 0.5498 - acc: 0.7120 - val_loss: 0.5472 - val_acc: 0.7110\n",
      "Epoch 17/100\n",
      "100/100 [==============================] - 15s 147ms/step - loss: 0.5483 - acc: 0.7215 - val_loss: 0.5212 - val_acc: 0.7280\n",
      "Epoch 18/100\n",
      "100/100 [==============================] - 15s 146ms/step - loss: 0.5491 - acc: 0.7155 - val_loss: 0.5047 - val_acc: 0.7400\n",
      "Epoch 19/100\n",
      "100/100 [==============================] - 15s 146ms/step - loss: 0.5437 - acc: 0.7225 - val_loss: 0.5210 - val_acc: 0.7340\n",
      "Epoch 20/100\n",
      "100/100 [==============================] - 15s 148ms/step - loss: 0.5345 - acc: 0.7280 - val_loss: 0.6286 - val_acc: 0.6910\n",
      "Epoch 21/100\n",
      "100/100 [==============================] - 15s 147ms/step - loss: 0.5414 - acc: 0.7245 - val_loss: 0.5294 - val_acc: 0.7180\n",
      "Epoch 22/100\n",
      "100/100 [==============================] - 15s 146ms/step - loss: 0.5362 - acc: 0.7255 - val_loss: 0.5152 - val_acc: 0.7510\n",
      "Epoch 23/100\n",
      "100/100 [==============================] - 15s 146ms/step - loss: 0.5266 - acc: 0.7345 - val_loss: 0.4754 - val_acc: 0.7630\n",
      "Epoch 24/100\n",
      "100/100 [==============================] - 15s 146ms/step - loss: 0.5322 - acc: 0.7350 - val_loss: 0.4775 - val_acc: 0.7580\n",
      "Epoch 25/100\n",
      "100/100 [==============================] - 15s 146ms/step - loss: 0.5299 - acc: 0.7255 - val_loss: 0.5693 - val_acc: 0.7160\n",
      "Epoch 26/100\n",
      "100/100 [==============================] - 14s 145ms/step - loss: 0.5137 - acc: 0.7455 - val_loss: 0.4674 - val_acc: 0.7730\n",
      "Epoch 27/100\n",
      "100/100 [==============================] - 15s 146ms/step - loss: 0.5070 - acc: 0.7545 - val_loss: 0.5011 - val_acc: 0.7470\n",
      "Epoch 28/100\n",
      "100/100 [==============================] - 15s 146ms/step - loss: 0.5093 - acc: 0.7480 - val_loss: 0.4734 - val_acc: 0.7690\n",
      "Epoch 29/100\n",
      "100/100 [==============================] - 15s 146ms/step - loss: 0.5126 - acc: 0.7395 - val_loss: 0.4992 - val_acc: 0.7540\n",
      "Epoch 30/100\n",
      "100/100 [==============================] - 14s 144ms/step - loss: 0.5060 - acc: 0.7545 - val_loss: 0.4712 - val_acc: 0.7710\n",
      "Epoch 31/100\n",
      "100/100 [==============================] - 15s 145ms/step - loss: 0.4931 - acc: 0.7675 - val_loss: 0.4833 - val_acc: 0.7630\n",
      "Epoch 32/100\n",
      "100/100 [==============================] - 14s 145ms/step - loss: 0.4903 - acc: 0.7615 - val_loss: 0.5203 - val_acc: 0.7510\n",
      "Epoch 33/100\n",
      "100/100 [==============================] - 15s 145ms/step - loss: 0.4955 - acc: 0.7680 - val_loss: 0.4807 - val_acc: 0.7660\n",
      "Epoch 34/100\n",
      "100/100 [==============================] - 15s 147ms/step - loss: 0.4991 - acc: 0.7600 - val_loss: 0.4674 - val_acc: 0.7670\n",
      "Epoch 35/100\n",
      "100/100 [==============================] - 14s 145ms/step - loss: 0.4927 - acc: 0.7625 - val_loss: 0.4735 - val_acc: 0.7660\n",
      "Epoch 36/100\n",
      "100/100 [==============================] - 14s 145ms/step - loss: 0.4846 - acc: 0.7695 - val_loss: 0.5599 - val_acc: 0.7410\n",
      "Epoch 37/100\n",
      "100/100 [==============================] - 14s 144ms/step - loss: 0.4904 - acc: 0.7610 - val_loss: 0.4656 - val_acc: 0.7680\n",
      "Epoch 38/100\n",
      "100/100 [==============================] - 15s 145ms/step - loss: 0.4786 - acc: 0.7745 - val_loss: 0.4548 - val_acc: 0.7850\n",
      "Epoch 39/100\n",
      "100/100 [==============================] - 14s 145ms/step - loss: 0.4772 - acc: 0.7720 - val_loss: 0.4555 - val_acc: 0.7780\n",
      "Epoch 40/100\n",
      "100/100 [==============================] - 15s 145ms/step - loss: 0.4789 - acc: 0.7715 - val_loss: 0.4776 - val_acc: 0.7600\n",
      "Epoch 41/100\n",
      "100/100 [==============================] - 15s 146ms/step - loss: 0.4650 - acc: 0.7790 - val_loss: 0.4517 - val_acc: 0.7830\n",
      "Epoch 42/100\n",
      "100/100 [==============================] - 15s 145ms/step - loss: 0.4749 - acc: 0.7695 - val_loss: 0.5086 - val_acc: 0.7540\n",
      "Epoch 43/100\n",
      "100/100 [==============================] - 15s 147ms/step - loss: 0.4587 - acc: 0.7770 - val_loss: 0.4457 - val_acc: 0.7760\n",
      "Epoch 44/100\n",
      "100/100 [==============================] - 15s 145ms/step - loss: 0.4793 - acc: 0.7745 - val_loss: 0.4659 - val_acc: 0.7660\n",
      "Epoch 45/100\n",
      "100/100 [==============================] - 15s 146ms/step - loss: 0.4712 - acc: 0.7765 - val_loss: 0.4592 - val_acc: 0.7770\n",
      "Epoch 46/100\n",
      "100/100 [==============================] - 14s 145ms/step - loss: 0.4528 - acc: 0.7830 - val_loss: 0.4801 - val_acc: 0.7630\n",
      "Epoch 47/100\n",
      "100/100 [==============================] - 15s 147ms/step - loss: 0.4576 - acc: 0.7800 - val_loss: 0.4823 - val_acc: 0.7670\n",
      "Epoch 48/100\n",
      "100/100 [==============================] - 15s 146ms/step - loss: 0.4517 - acc: 0.7855 - val_loss: 0.4474 - val_acc: 0.7780\n",
      "Epoch 49/100\n",
      "100/100 [==============================] - 15s 146ms/step - loss: 0.4611 - acc: 0.7860 - val_loss: 0.4666 - val_acc: 0.7780\n",
      "Epoch 50/100\n",
      "100/100 [==============================] - 14s 145ms/step - loss: 0.4446 - acc: 0.7865 - val_loss: 0.5103 - val_acc: 0.7640\n",
      "Epoch 51/100\n",
      "100/100 [==============================] - 15s 146ms/step - loss: 0.4398 - acc: 0.8030 - val_loss: 0.4439 - val_acc: 0.7880\n",
      "Epoch 52/100\n",
      "100/100 [==============================] - 15s 145ms/step - loss: 0.4389 - acc: 0.7970 - val_loss: 0.5947 - val_acc: 0.7100\n",
      "Epoch 53/100\n",
      "100/100 [==============================] - 15s 146ms/step - loss: 0.4412 - acc: 0.8050 - val_loss: 0.4453 - val_acc: 0.7910\n",
      "Epoch 54/100\n",
      "100/100 [==============================] - 15s 145ms/step - loss: 0.4426 - acc: 0.7890 - val_loss: 0.4340 - val_acc: 0.7860\n",
      "Epoch 55/100\n",
      "100/100 [==============================] - 15s 146ms/step - loss: 0.4510 - acc: 0.7830 - val_loss: 0.4440 - val_acc: 0.7880\n",
      "Epoch 56/100\n",
      "100/100 [==============================] - 15s 146ms/step - loss: 0.4441 - acc: 0.7800 - val_loss: 0.4969 - val_acc: 0.7640\n",
      "Epoch 57/100\n",
      "100/100 [==============================] - 15s 145ms/step - loss: 0.4447 - acc: 0.7950 - val_loss: 0.4336 - val_acc: 0.7910\n",
      "Epoch 58/100\n",
      "100/100 [==============================] - 15s 146ms/step - loss: 0.4498 - acc: 0.7870 - val_loss: 0.4797 - val_acc: 0.7790\n",
      "Epoch 59/100\n",
      "100/100 [==============================] - 15s 145ms/step - loss: 0.4242 - acc: 0.8085 - val_loss: 0.4875 - val_acc: 0.7640\n",
      "Epoch 60/100\n",
      "100/100 [==============================] - 15s 146ms/step - loss: 0.4329 - acc: 0.7980 - val_loss: 0.4384 - val_acc: 0.7970\n",
      "Epoch 61/100\n",
      "100/100 [==============================] - 14s 145ms/step - loss: 0.4220 - acc: 0.8060 - val_loss: 0.4656 - val_acc: 0.7740\n",
      "Epoch 62/100\n",
      "100/100 [==============================] - 15s 146ms/step - loss: 0.4406 - acc: 0.7925 - val_loss: 0.4907 - val_acc: 0.7680\n",
      "Epoch 63/100\n",
      "100/100 [==============================] - 14s 145ms/step - loss: 0.4315 - acc: 0.7970 - val_loss: 0.4971 - val_acc: 0.7530\n",
      "Epoch 64/100\n",
      "100/100 [==============================] - 15s 147ms/step - loss: 0.4071 - acc: 0.8170 - val_loss: 0.5688 - val_acc: 0.7480\n",
      "Epoch 65/100\n",
      "100/100 [==============================] - 15s 146ms/step - loss: 0.4153 - acc: 0.8120 - val_loss: 0.4552 - val_acc: 0.8040\n",
      "Epoch 66/100\n",
      "100/100 [==============================] - 15s 145ms/step - loss: 0.4133 - acc: 0.8085 - val_loss: 0.4873 - val_acc: 0.7810\n",
      "Epoch 67/100\n",
      "100/100 [==============================] - 14s 144ms/step - loss: 0.4115 - acc: 0.8045 - val_loss: 0.5918 - val_acc: 0.7510\n",
      "Epoch 68/100\n",
      "100/100 [==============================] - 15s 145ms/step - loss: 0.4102 - acc: 0.8060 - val_loss: 0.4701 - val_acc: 0.7830\n",
      "Epoch 69/100\n",
      "100/100 [==============================] - 15s 145ms/step - loss: 0.4008 - acc: 0.8165 - val_loss: 0.4570 - val_acc: 0.7790\n",
      "Epoch 70/100\n",
      "100/100 [==============================] - 14s 145ms/step - loss: 0.4086 - acc: 0.8210 - val_loss: 0.4377 - val_acc: 0.8020\n",
      "Epoch 71/100\n",
      "100/100 [==============================] - 15s 145ms/step - loss: 0.3971 - acc: 0.8195 - val_loss: 0.4388 - val_acc: 0.7950\n",
      "Epoch 72/100\n",
      "100/100 [==============================] - 14s 145ms/step - loss: 0.3948 - acc: 0.8240 - val_loss: 0.5191 - val_acc: 0.7620\n",
      "Epoch 73/100\n",
      "100/100 [==============================] - 15s 146ms/step - loss: 0.3921 - acc: 0.8120 - val_loss: 0.4678 - val_acc: 0.7760\n",
      "Epoch 74/100\n",
      "100/100 [==============================] - 14s 144ms/step - loss: 0.4035 - acc: 0.8150 - val_loss: 0.4194 - val_acc: 0.7880\n",
      "Epoch 75/100\n",
      "100/100 [==============================] - 14s 145ms/step - loss: 0.3968 - acc: 0.8320 - val_loss: 0.5240 - val_acc: 0.7590\n",
      "Epoch 76/100\n",
      "100/100 [==============================] - 15s 145ms/step - loss: 0.4073 - acc: 0.8150 - val_loss: 0.4159 - val_acc: 0.8090\n",
      "Epoch 77/100\n",
      "100/100 [==============================] - 14s 145ms/step - loss: 0.3933 - acc: 0.8150 - val_loss: 0.5350 - val_acc: 0.7620\n",
      "Epoch 78/100\n",
      "100/100 [==============================] - 14s 145ms/step - loss: 0.3888 - acc: 0.8255 - val_loss: 0.5087 - val_acc: 0.7720\n",
      "Epoch 79/100\n",
      "100/100 [==============================] - 15s 145ms/step - loss: 0.4096 - acc: 0.8240 - val_loss: 0.4200 - val_acc: 0.7990\n",
      "Epoch 80/100\n",
      "100/100 [==============================] - 15s 146ms/step - loss: 0.3774 - acc: 0.8325 - val_loss: 0.4462 - val_acc: 0.7930\n",
      "Epoch 81/100\n",
      "100/100 [==============================] - 14s 145ms/step - loss: 0.4008 - acc: 0.8240 - val_loss: 0.4127 - val_acc: 0.8150\n",
      "Epoch 82/100\n",
      "100/100 [==============================] - 15s 145ms/step - loss: 0.3764 - acc: 0.8330 - val_loss: 0.4974 - val_acc: 0.7780\n",
      "Epoch 83/100\n",
      "100/100 [==============================] - 15s 145ms/step - loss: 0.3763 - acc: 0.8345 - val_loss: 0.4127 - val_acc: 0.8150\n",
      "Epoch 84/100\n",
      "100/100 [==============================] - 15s 145ms/step - loss: 0.3781 - acc: 0.8255 - val_loss: 0.4026 - val_acc: 0.8130\n",
      "Epoch 85/100\n",
      "100/100 [==============================] - 15s 145ms/step - loss: 0.3746 - acc: 0.8310 - val_loss: 0.4530 - val_acc: 0.8070\n",
      "Epoch 86/100\n",
      "100/100 [==============================] - 14s 145ms/step - loss: 0.3873 - acc: 0.8225 - val_loss: 0.4383 - val_acc: 0.8040\n",
      "Epoch 87/100\n",
      "100/100 [==============================] - 14s 144ms/step - loss: 0.3756 - acc: 0.8325 - val_loss: 0.4020 - val_acc: 0.8270\n",
      "Epoch 88/100\n",
      "100/100 [==============================] - 14s 144ms/step - loss: 0.3786 - acc: 0.8315 - val_loss: 0.4304 - val_acc: 0.7940\n",
      "Epoch 89/100\n",
      "100/100 [==============================] - 15s 145ms/step - loss: 0.3704 - acc: 0.8320 - val_loss: 0.3929 - val_acc: 0.8280\n",
      "Epoch 90/100\n",
      "100/100 [==============================] - 15s 146ms/step - loss: 0.3616 - acc: 0.8415 - val_loss: 0.4868 - val_acc: 0.7920\n",
      "Epoch 91/100\n",
      "100/100 [==============================] - 15s 145ms/step - loss: 0.3616 - acc: 0.8335 - val_loss: 0.4465 - val_acc: 0.7920\n",
      "Epoch 92/100\n",
      "100/100 [==============================] - 14s 144ms/step - loss: 0.3600 - acc: 0.8375 - val_loss: 0.4239 - val_acc: 0.8150\n",
      "Epoch 93/100\n",
      "100/100 [==============================] - 14s 144ms/step - loss: 0.3713 - acc: 0.8320 - val_loss: 0.4095 - val_acc: 0.8070\n",
      "Epoch 94/100\n",
      "100/100 [==============================] - 14s 145ms/step - loss: 0.3578 - acc: 0.8405 - val_loss: 0.4789 - val_acc: 0.7900\n",
      "Epoch 95/100\n",
      "100/100 [==============================] - 14s 145ms/step - loss: 0.3772 - acc: 0.8315 - val_loss: 0.5553 - val_acc: 0.7710\n",
      "Epoch 96/100\n",
      "100/100 [==============================] - 14s 145ms/step - loss: 0.3629 - acc: 0.8455 - val_loss: 0.4621 - val_acc: 0.8030\n",
      "Epoch 97/100\n",
      "100/100 [==============================] - 15s 146ms/step - loss: 0.3637 - acc: 0.8365 - val_loss: 0.4432 - val_acc: 0.8110\n",
      "Epoch 98/100\n",
      "100/100 [==============================] - 14s 144ms/step - loss: 0.3618 - acc: 0.8505 - val_loss: 0.4051 - val_acc: 0.8210\n",
      "Epoch 99/100\n",
      "100/100 [==============================] - 14s 145ms/step - loss: 0.3491 - acc: 0.8560 - val_loss: 0.4132 - val_acc: 0.8150\n",
      "Epoch 100/100\n",
      "100/100 [==============================] - 14s 145ms/step - loss: 0.3545 - acc: 0.8425 - val_loss: 0.4786 - val_acc: 0.7890\n"
     ]
    }
   ],
   "source": [
    "history = model.fit_generator(\n",
    "      train_generator,\n",
    "      steps_per_epoch=100,\n",
    "      epochs=100,\n",
    "      validation_data=validation_generator,\n",
    "      validation_steps=50,\n",
    "      verbose=1)"
   ]
  },
  {
   "cell_type": "code",
   "execution_count": 44,
   "metadata": {},
   "outputs": [
    {
     "name": "stdout",
     "output_type": "stream",
     "text": [
      "Model: \"sequential_9\"\n",
      "_________________________________________________________________\n",
      "Layer (type)                 Output Shape              Param #   \n",
      "=================================================================\n",
      "conv2d_40 (Conv2D)           (None, 148, 148, 32)      896       \n",
      "_________________________________________________________________\n",
      "max_pooling2d_40 (MaxPooling (None, 74, 74, 32)        0         \n",
      "_________________________________________________________________\n",
      "conv2d_41 (Conv2D)           (None, 72, 72, 64)        18496     \n",
      "_________________________________________________________________\n",
      "max_pooling2d_41 (MaxPooling (None, 36, 36, 64)        0         \n",
      "_________________________________________________________________\n",
      "conv2d_42 (Conv2D)           (None, 34, 34, 128)       73856     \n",
      "_________________________________________________________________\n",
      "max_pooling2d_42 (MaxPooling (None, 17, 17, 128)       0         \n",
      "_________________________________________________________________\n",
      "conv2d_43 (Conv2D)           (None, 15, 15, 128)       147584    \n",
      "_________________________________________________________________\n",
      "max_pooling2d_43 (MaxPooling (None, 7, 7, 128)         0         \n",
      "_________________________________________________________________\n",
      "flatten_10 (Flatten)         (None, 6272)              0         \n",
      "_________________________________________________________________\n",
      "dropout_7 (Dropout)          (None, 6272)              0         \n",
      "_________________________________________________________________\n",
      "dense_19 (Dense)             (None, 256)               1605888   \n",
      "_________________________________________________________________\n",
      "dense_20 (Dense)             (None, 128)               32896     \n",
      "_________________________________________________________________\n",
      "dense_21 (Dense)             (None, 1)                 129       \n",
      "=================================================================\n",
      "Total params: 1,879,745\n",
      "Trainable params: 1,879,745\n",
      "Non-trainable params: 0\n",
      "_________________________________________________________________\n"
     ]
    }
   ],
   "source": [
    "model.summary()"
   ]
  },
  {
   "cell_type": "markdown",
   "metadata": {},
   "source": [
    "## Some plots"
   ]
  },
  {
   "cell_type": "markdown",
   "metadata": {},
   "source": [
    "Let's create an accuracy and loss plot"
   ]
  },
  {
   "cell_type": "code",
   "execution_count": 41,
   "metadata": {},
   "outputs": [
    {
     "data": {
      "image/png": "[encoded data removed]",
      "text/plain": [
       "<Figure size 432x288 with 1 Axes>"
      ]
     },
     "metadata": {
      "needs_background": "light"
     },
     "output_type": "display_data"
    },
    {
     "data": {
      "image/png": "[encoded data removed]",
      "text/plain": [
       "<Figure size 432x288 with 1 Axes>"
      ]
     },
     "metadata": {
      "needs_background": "light"
     },
     "output_type": "display_data"
    }
   ],
   "source": [
    "import matplotlib.pyplot as plt\n",
    "acc = history.history['acc']\n",
    "val_acc = history.history['val_acc']\n",
    "loss = history.history['loss']\n",
    "val_loss = history.history['val_loss']\n",
    "\n",
    "epochs = range(len(acc))\n",
    "\n",
    "plt.plot(epochs, acc, 'bo', label='Training accuracy')\n",
    "plt.plot(epochs, val_acc, 'b', label='Validation accuracy')\n",
    "plt.title('Training and validation accuracy')\n",
    "\n",
    "plt.figure()\n",
    "\n",
    "plt.plot(epochs, loss, 'bo', label='Training Loss')\n",
    "plt.plot(epochs, val_loss, 'b', label='Validation Loss')\n",
    "plt.title('Training and validation loss')\n",
    "plt.legend()\n",
    "\n",
    "plt.show()"
   ]
  },
  {
   "cell_type": "markdown",
   "metadata": {},
   "source": [
    "## Conclusion"
   ]
  },
  {
   "cell_type": "markdown",
   "metadata": {},
   "source": [
    "We did pretty well and got a decent accuracy of above 85 %, that's not bad considering we made use of so less training time. We can use a pretrained model and make some changes to it. This further pushes the bar and we receive a wonderful 95 %  accuracy. These models which we use have been trained for days on data and have more than 100 layers! That defines why they have so good accuracy. So, we did a pretty good job.\n",
    "\n",
    "We also did not overfit the data which can clearly be seen in our plots.\n",
    "\n",
    "Please head on to my notebook for Transfer Learning which applies what I discussed above here- `Transfer Learning approaach/ TL solution.ipynb`"
   ]
  }
 ],
 "metadata": {
  "colab": {
   "collapsed_sections": [],
   "name": "Cats-v-Dogs-Augmentation.ipynb",
   "provenance": []
  },
  "kernelspec": {
   "display_name": "Python 3",
   "language": "python",
   "name": "python3"
  },
  "language_info": {
   "codemirror_mode": {
    "name": "ipython",
    "version": 3
   },
   "file_extension": ".py",
   "mimetype": "text/x-python",
   "name": "python",
   "nbconvert_exporter": "python",
   "pygments_lexer": "ipython3",
   "version": "3.5.3"
  }
 },
 "nbformat": 4,
 "nbformat_minor": 4
}
