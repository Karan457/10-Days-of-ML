{
 "cells": [
  {
   "cell_type": "code",
   "execution_count": 85,
   "metadata": {},
   "outputs": [],
   "source": [
    "import numpy as np\n",
    "import pandas as pd\n",
    "import tensorflow as tf\n",
    "import matplotlib.pyplot as plt\n",
    "import seaborn as sns\n",
    "from tensorflow.keras.utils import to_categorical\n",
    "from sklearn.model_selection import train_test_split"
   ]
  },
  {
   "cell_type": "code",
   "execution_count": 86,
   "metadata": {},
   "outputs": [],
   "source": [
    "data_train = pd.read_csv('Fashion MNIST/fashion-mnist_train.csv')\n",
    "data_test = pd.read_csv('Fashion MNIST/fashion-mnist_test.csv')"
   ]
  },
  {
   "cell_type": "code",
   "execution_count": 87,
   "metadata": {},
   "outputs": [],
   "source": [
    "img_rows, img_cols = 28, 28\n",
    "input_shape = (img_rows, img_cols, 1)"
   ]
  },
  {
   "cell_type": "code",
   "execution_count": 88,
   "metadata": {},
   "outputs": [],
   "source": [
    "x_train = np.array(data_train.iloc[:, 1:])\n",
    "y_train = np.array(data_train.iloc[:, 0])"
   ]
  },
  {
   "cell_type": "code",
   "execution_count": 89,
   "metadata": {},
   "outputs": [
    {
     "data": {
      "text/plain": [
       "array([2, 9, 6, ..., 8, 8, 7])"
      ]
     },
     "execution_count": 89,
     "metadata": {},
     "output_type": "execute_result"
    }
   ],
   "source": [
    "y_train"
   ]
  },
  {
   "cell_type": "code",
   "execution_count": 90,
   "metadata": {},
   "outputs": [],
   "source": [
    "x_test = np.array(data_test.iloc[:, 1:])\n",
    "y_test = np.array(data_test.iloc[:, 0])"
   ]
  },
  {
   "cell_type": "code",
   "execution_count": 91,
   "metadata": {},
   "outputs": [],
   "source": [
    "x_train = x_train.reshape(60000, 28, 28, 1)\n",
    "x_train = x_train / 255.0\n",
    "x_test = x_test.reshape(10000, 28, 28, 1)\n",
    "x_test = x_test/255.0"
   ]
  },
  {
   "cell_type": "code",
   "execution_count": 103,
   "metadata": {},
   "outputs": [],
   "source": [
    "num_classes = 10\n",
    "epochs = 25\n",
    "\n",
    "img_rows, img_cols = 28, 28\n",
    "\n",
    "optimizer = 'adam'\n",
    "loss = 'sparse_categorical_crossentropy'"
   ]
  },
  {
   "cell_type": "code",
   "execution_count": 104,
   "metadata": {},
   "outputs": [],
   "source": [
    "model = tf.keras.models.Sequential([\n",
    "  tf.keras.layers.Conv2D(32, (3,3), activation='relu', input_shape=(28, 28, 1)),\n",
    "  tf.keras.layers.MaxPooling2D(2, 2),\n",
    "  tf.keras.layers.Flatten(),\n",
    "  tf.keras.layers.Dense(128, activation='relu'),\n",
    "  tf.keras.layers.Dense(num_classes, activation='softmax')\n",
    "])"
   ]
  },
  {
   "cell_type": "code",
   "execution_count": 105,
   "metadata": {},
   "outputs": [],
   "source": [
    "model.compile(optimizer = optimizer, \n",
    "              loss = loss, \n",
    "              metrics=['accuracy'])"
   ]
  },
  {
   "cell_type": "code",
   "execution_count": 106,
   "metadata": {},
   "outputs": [
    {
     "name": "stdout",
     "output_type": "stream",
     "text": [
      "Train on 60000 samples\n",
      "Epoch 1/25\n",
      "60000/60000 [==============================] - 8s 133us/sample - loss: 0.3928 - accuracy: 0.8597\n",
      "Epoch 2/25\n",
      "60000/60000 [==============================] - 8s 127us/sample - loss: 0.2660 - accuracy: 0.9042\n",
      "Epoch 3/25\n",
      "60000/60000 [==============================] - 8s 132us/sample - loss: 0.2234 - accuracy: 0.9176\n",
      "Epoch 4/25\n",
      "60000/60000 [==============================] - 8s 131us/sample - loss: 0.1865 - accuracy: 0.9307\n",
      "Epoch 5/25\n",
      "60000/60000 [==============================] - 8s 127us/sample - loss: 0.1604 - accuracy: 0.9405\n",
      "Epoch 6/25\n",
      "60000/60000 [==============================] - 8s 127us/sample - loss: 0.1353 - accuracy: 0.9502\n",
      "Epoch 7/25\n",
      "60000/60000 [==============================] - 8s 129us/sample - loss: 0.1147 - accuracy: 0.9578\n",
      "Epoch 8/25\n",
      "60000/60000 [==============================] - 9s 142us/sample - loss: 0.0960 - accuracy: 0.9646\n",
      "Epoch 9/25\n",
      "60000/60000 [==============================] - 8s 128us/sample - loss: 0.0814 - accuracy: 0.9707\n",
      "Epoch 10/25\n",
      "60000/60000 [==============================] - 8s 127us/sample - loss: 0.0692 - accuracy: 0.9750\n",
      "Epoch 11/25\n",
      "60000/60000 [==============================] - 8s 127us/sample - loss: 0.0597 - accuracy: 0.9779\n",
      "Epoch 12/25\n",
      "60000/60000 [==============================] - 8s 127us/sample - loss: 0.0492 - accuracy: 0.9824\n",
      "Epoch 13/25\n",
      "60000/60000 [==============================] - 8s 127us/sample - loss: 0.0437 - accuracy: 0.9843\n",
      "Epoch 14/25\n",
      "60000/60000 [==============================] - 8s 127us/sample - loss: 0.0381 - accuracy: 0.9864\n",
      "Epoch 15/25\n",
      "60000/60000 [==============================] - 8s 127us/sample - loss: 0.0329 - accuracy: 0.9885\n",
      "Epoch 16/25\n",
      "60000/60000 [==============================] - 8s 127us/sample - loss: 0.0287 - accuracy: 0.9901\n",
      "Epoch 17/25\n",
      "60000/60000 [==============================] - 8s 127us/sample - loss: 0.0270 - accuracy: 0.9907\n",
      "Epoch 18/25\n",
      "60000/60000 [==============================] - 8s 128us/sample - loss: 0.0238 - accuracy: 0.9916\n",
      "Epoch 19/25\n",
      "60000/60000 [==============================] - 8s 128us/sample - loss: 0.0197 - accuracy: 0.9933\n",
      "Epoch 20/25\n",
      "60000/60000 [==============================] - 8s 127us/sample - loss: 0.0196 - accuracy: 0.9929\n",
      "Epoch 21/25\n",
      "60000/60000 [==============================] - 8s 128us/sample - loss: 0.0202 - accuracy: 0.9930\n",
      "Epoch 22/25\n",
      "60000/60000 [==============================] - 8s 128us/sample - loss: 0.0165 - accuracy: 0.9946\n",
      "Epoch 23/25\n",
      "60000/60000 [==============================] - 8s 127us/sample - loss: 0.0186 - accuracy: 0.9937\n",
      "Epoch 24/25\n",
      "60000/60000 [==============================] - 8s 128us/sample - loss: 0.0149 - accuracy: 0.9950\n",
      "Epoch 25/25\n",
      "60000/60000 [==============================] - 8s 128us/sample - loss: 0.0130 - accuracy: 0.9959\n"
     ]
    }
   ],
   "source": [
    "history = model.fit(x_train, \n",
    "                    y_train,\n",
    "                   epochs = epochs)"
   ]
  },
  {
   "cell_type": "code",
   "execution_count": 107,
   "metadata": {},
   "outputs": [
    {
     "name": "stdout",
     "output_type": "stream",
     "text": [
      "10000/10000 [==============================] - 1s 95us/sample - loss: 0.5826 - accuracy: 0.9172\n"
     ]
    }
   ],
   "source": [
    "test_loss, test_acc = model.evaluate(x_test, \n",
    "                                     y_test)"
   ]
  },
  {
   "cell_type": "code",
   "execution_count": 108,
   "metadata": {},
   "outputs": [
    {
     "data": {
      "text/plain": [
       "0.9172"
      ]
     },
     "execution_count": 108,
     "metadata": {},
     "output_type": "execute_result"
    }
   ],
   "source": [
    "test_acc"
   ]
  },
  {
   "cell_type": "code",
   "execution_count": null,
   "metadata": {},
   "outputs": [],
   "source": [
    "import matplotlib.pyplot as plt\n",
    "f, axarr = plt.subplots(3,4)\n",
    "FIRST_IMAGE=0\n",
    "SECOND_IMAGE=7\n",
    "THIRD_IMAGE=26\n",
    "CONVOLUTION_NUMBER = 1\n",
    "from tensorflow.keras import models\n",
    "layer_outputs = [layer.output for layer in model.layers]\n",
    "activation_model = tf.keras.models.Model(inputs = model.input, outputs = layer_outputs)\n",
    "for x in range(0,4):\n",
    "  f1 = activation_model.predict(x_test[FIRST_IMAGE].reshape(1, 28, 28, 1))[x]\n",
    "  axarr[0,x].imshow(f1[0, : , :, CONVOLUTION_NUMBER], cmap='inferno')\n",
    "  axarr[0,x].grid(False)\n",
    "  f2 = activation_model.predict(x_test[SECOND_IMAGE].reshape(1, 28, 28, 1))[x]\n",
    "  axarr[1,x].imshow(f2[0, : , :, CONVOLUTION_NUMBER], cmap='inferno')\n",
    "  axarr[1,x].grid(False)\n",
    "  f3 = activation_model.predict(x_test[THIRD_IMAGE].reshape(1, 28, 28, 1))[x]\n",
    "  axarr[2,x].imshow(f3[0, : , :, CONVOLUTION_NUMBER], cmap='inferno')\n",
    "  axarr[2,x].grid(False)"
   ]
  },
  {
   "attachments": {
    "index.png": {
     "image/png": "[encoded data removed]"
    }
   },
   "cell_type": "markdown",
   "metadata": {},
   "source": [
    "![index.png](attachment:index.png)"
   ]
  },
  {
   "cell_type": "code",
   "execution_count": 121,
   "metadata": {},
   "outputs": [],
   "source": [
    "predicted_classes = model.predict_classes(x_test)\n",
    "\n",
    "y_true = data_test.iloc[:, 0]\n",
    "correct = np.nonzero(predicted_classes==y_true)\n",
    "incorrect = np.nonzero(predicted_classes!=y_true)"
   ]
  },
  {
   "cell_type": "code",
   "execution_count": 124,
   "metadata": {},
   "outputs": [
    {
     "data": {
      "text/plain": [
       "(array([   0,    1,    2, ..., 9997, 9998, 9999]),)"
      ]
     },
     "execution_count": 124,
     "metadata": {},
     "output_type": "execute_result"
    }
   ],
   "source": [
    "correct"
   ]
  },
  {
   "cell_type": "code",
   "execution_count": 157,
   "metadata": {},
   "outputs": [
    {
     "data": {
      "text/plain": [
       "<matplotlib.image.AxesImage at 0x7f86dccf6390>"
      ]
     },
     "execution_count": 157,
     "metadata": {},
     "output_type": "execute_result"
    },
    {
     "data": {
      "image/png": "[encoded data removed]",
      "text/plain": [
       "<Figure size 432x288 with 1 Axes>"
      ]
     },
     "metadata": {
      "needs_background": "light"
     },
     "output_type": "display_data"
    }
   ],
   "source": [
    "plt.imshow(x_test[0].reshape(28,28))"
   ]
  }
 ],
 "metadata": {
  "kernelspec": {
   "display_name": "Python 3",
   "language": "python",
   "name": "python3"
  },
  "language_info": {
   "codemirror_mode": {
    "name": "ipython",
    "version": 3
   },
   "file_extension": ".py",
   "mimetype": "text/x-python",
   "name": "python",
   "nbconvert_exporter": "python",
   "pygments_lexer": "ipython3",
   "version": "3.5.3"
  }
 },
 "nbformat": 4,
 "nbformat_minor": 4
}
